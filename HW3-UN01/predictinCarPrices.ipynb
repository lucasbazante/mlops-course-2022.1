{
  "cells": [
    {
      "cell_type": "code",
      "source": [
        "#!pip install pylint\n",
        "!pylint /content/drive/MyDrive/\"Colab Notebooks\"/pred-car-prices.ipynb"
      ],
      "metadata": {
        "id": "dusdwxU1kXe3",
        "colab": {
          "base_uri": "https://localhost:8080/"
        },
        "outputId": "7b43538d-f9a3-463e-9221-f7ac5cfce4ee"
      },
      "execution_count": 94,
      "outputs": [
        {
          "output_type": "stream",
          "name": "stdout",
          "text": [
            "************* Module pred-car-prices\n",
            "drive/MyDrive/Colab Notebooks/pred-car-prices.ipynb:1:0: C0304: Final newline missing (missing-final-newline)\n",
            "drive/MyDrive/Colab Notebooks/pred-car-prices.ipynb:1:0: C0301: Line too long (60009/100) (line-too-long)\n",
            "drive/MyDrive/Colab Notebooks/pred-car-prices.ipynb:1:0: C0103: Module name \"pred-car-prices\" doesn't conform to snake_case naming style (invalid-name)\n",
            "drive/MyDrive/Colab Notebooks/pred-car-prices.ipynb:1:0: C0114: Missing module docstring (missing-module-docstring)\n",
            "drive/MyDrive/Colab Notebooks/pred-car-prices.ipynb:1:0: W0104: Statement seems to have no effect (pointless-statement)\n",
            "drive/MyDrive/Colab Notebooks/pred-car-prices.ipynb:1:3746: E0602: Undefined variable 'null' (undefined-variable)\n",
            "drive/MyDrive/Colab Notebooks/pred-car-prices.ipynb:1:3775: E0602: Undefined variable 'true' (undefined-variable)\n",
            "drive/MyDrive/Colab Notebooks/pred-car-prices.ipynb:1:4263: E0602: Undefined variable 'null' (undefined-variable)\n",
            "drive/MyDrive/Colab Notebooks/pred-car-prices.ipynb:1:5175: E0602: Undefined variable 'null' (undefined-variable)\n",
            "drive/MyDrive/Colab Notebooks/pred-car-prices.ipynb:1:5945: E0602: Undefined variable 'null' (undefined-variable)\n",
            "drive/MyDrive/Colab Notebooks/pred-car-prices.ipynb:1:13862: E0602: Undefined variable 'null' (undefined-variable)\n",
            "drive/MyDrive/Colab Notebooks/pred-car-prices.ipynb:1:14348: E0602: Undefined variable 'null' (undefined-variable)\n",
            "drive/MyDrive/Colab Notebooks/pred-car-prices.ipynb:1:14836: E0602: Undefined variable 'null' (undefined-variable)\n",
            "drive/MyDrive/Colab Notebooks/pred-car-prices.ipynb:1:15333: E0602: Undefined variable 'null' (undefined-variable)\n",
            "drive/MyDrive/Colab Notebooks/pred-car-prices.ipynb:1:15362: E0602: Undefined variable 'true' (undefined-variable)\n",
            "drive/MyDrive/Colab Notebooks/pred-car-prices.ipynb:1:15818: E0602: Undefined variable 'null' (undefined-variable)\n",
            "drive/MyDrive/Colab Notebooks/pred-car-prices.ipynb:1:16714: E0602: Undefined variable 'null' (undefined-variable)\n",
            "drive/MyDrive/Colab Notebooks/pred-car-prices.ipynb:1:16743: E0602: Undefined variable 'true' (undefined-variable)\n",
            "drive/MyDrive/Colab Notebooks/pred-car-prices.ipynb:1:17373: E0602: Undefined variable 'null' (undefined-variable)\n",
            "drive/MyDrive/Colab Notebooks/pred-car-prices.ipynb:1:18836: E0602: Undefined variable 'null' (undefined-variable)\n",
            "drive/MyDrive/Colab Notebooks/pred-car-prices.ipynb:1:20298: E0602: Undefined variable 'null' (undefined-variable)\n",
            "drive/MyDrive/Colab Notebooks/pred-car-prices.ipynb:1:56888: E0602: Undefined variable 'null' (undefined-variable)\n",
            "drive/MyDrive/Colab Notebooks/pred-car-prices.ipynb:1:58184: E0602: Undefined variable 'null' (undefined-variable)\n",
            "\n",
            "------------------------------------------------------------------\n",
            "Your code has been rated at 0.00/10 (previous run: 0.00/10, +0.00)\n",
            "\n"
          ]
        }
      ]
    },
    {
      "cell_type": "code",
      "execution_count": null,
      "metadata": {
        "collapsed": true,
        "colab": {
          "base_uri": "https://localhost:8080/"
        },
        "id": "JA0Fo6LyPfow",
        "outputId": "c34bb56b-3ac0-4a80-f302-0fb56a40c2ca"
      },
      "outputs": [
        {
          "output_type": "stream",
          "name": "stdout",
          "text": [
            "\n"
          ]
        }
      ],
      "source": [
        "import pandas as pd\n",
        "import numpy as np\n",
        "\n",
        "pd.options.display.max_columns = 99"
      ]
    },
    {
      "cell_type": "code",
      "execution_count": null,
      "metadata": {
        "colab": {
          "base_uri": "https://localhost:8080/"
        },
        "id": "54Jubq6XPfo5",
        "outputId": "516a93a6-7a56-4e1c-b915-c85d2928f585"
      },
      "outputs": [
        {
          "output_type": "stream",
          "name": "stdout",
          "text": [
            "\n"
          ]
        }
      ],
      "source": [
        "cols = ['symboling', 'normalized-losses', 'make', 'fuel-type', 'aspiration',\n",
        "        'num-of-doors', 'body-style', 'drive-wheels', 'engine-location',\n",
        "        'wheel-base', 'length', 'width', 'height', 'curb-weight',\n",
        "        'engine-type', 'num-of-cylinders', 'engine-size', 'fuel-system',\n",
        "        'bore', 'stroke', 'compression-rate', 'horsepower', 'peak-rpm',\n",
        "        'city-mpg', 'highway-mpg', 'price']\n",
        "cars = pd.read_csv('imports-85.data', names=cols)\n",
        "\n",
        "cars.head()"
      ]
    },
    {
      "cell_type": "code",
      "execution_count": null,
      "metadata": {
        "colab": {
          "base_uri": "https://localhost:8080/"
        },
        "id": "OpvoqkaDPfo7",
        "outputId": "32f83c2e-f394-479e-b783-c9d6f6a3e844"
      },
      "outputs": [
        {
          "output_type": "stream",
          "name": "stdout",
          "text": [
            "\n"
          ]
        }
      ],
      "source": [
        "continuous_values_cols = ['normalized-losses', 'wheel-base', 'length', 'width',\n",
        "                          'height', 'curb-weight', 'engine-size', 'bore',\n",
        "                          'stroke', 'compression-rate', 'horsepower',\n",
        "                          'peak-rpm', 'city-mpg', 'highway-mpg', 'price']\n",
        "numeric_cars = cars[continuous_values_cols]"
      ]
    },
    {
      "cell_type": "code",
      "execution_count": null,
      "metadata": {
        "colab": {
          "base_uri": "https://localhost:8080/",
          "height": 268
        },
        "id": "HPbason9Pfo8",
        "outputId": "85f1d272-a1d4-45d1-a1b0-b4dca3df3a3b"
      },
      "outputs": [
        {
          "output_type": "execute_result",
          "data": {
            "text/plain": [
              "  normalized-losses  wheel-base  length  width  height  curb-weight  \\\n",
              "0                 ?        88.6   168.8   64.1    48.8         2548   \n",
              "1                 ?        88.6   168.8   64.1    48.8         2548   \n",
              "2                 ?        94.5   171.2   65.5    52.4         2823   \n",
              "3               164        99.8   176.6   66.2    54.3         2337   \n",
              "4               164        99.4   176.6   66.4    54.3         2824   \n",
              "\n",
              "   engine-size  bore stroke  compression-rate horsepower peak-rpm  city-mpg  \\\n",
              "0          130  3.47   2.68               9.0        111     5000        21   \n",
              "1          130  3.47   2.68               9.0        111     5000        21   \n",
              "2          152  2.68   3.47               9.0        154     5000        19   \n",
              "3          109  3.19   3.40              10.0        102     5500        24   \n",
              "4          136  3.19   3.40               8.0        115     5500        18   \n",
              "\n",
              "   highway-mpg  price  \n",
              "0           27  13495  \n",
              "1           27  16500  \n",
              "2           26  16500  \n",
              "3           30  13950  \n",
              "4           22  17450  "
            ],
            "text/html": [
              "\n",
              "  <div id=\"df-02e06144-7092-44ff-85a5-9b87f963566c\">\n",
              "    <div class=\"colab-df-container\">\n",
              "      <div>\n",
              "<style scoped>\n",
              "    .dataframe tbody tr th:only-of-type {\n",
              "        vertical-align: middle;\n",
              "    }\n",
              "\n",
              "    .dataframe tbody tr th {\n",
              "        vertical-align: top;\n",
              "    }\n",
              "\n",
              "    .dataframe thead th {\n",
              "        text-align: right;\n",
              "    }\n",
              "</style>\n",
              "<table border=\"1\" class=\"dataframe\">\n",
              "  <thead>\n",
              "    <tr style=\"text-align: right;\">\n",
              "      <th></th>\n",
              "      <th>normalized-losses</th>\n",
              "      <th>wheel-base</th>\n",
              "      <th>length</th>\n",
              "      <th>width</th>\n",
              "      <th>height</th>\n",
              "      <th>curb-weight</th>\n",
              "      <th>engine-size</th>\n",
              "      <th>bore</th>\n",
              "      <th>stroke</th>\n",
              "      <th>compression-rate</th>\n",
              "      <th>horsepower</th>\n",
              "      <th>peak-rpm</th>\n",
              "      <th>city-mpg</th>\n",
              "      <th>highway-mpg</th>\n",
              "      <th>price</th>\n",
              "    </tr>\n",
              "  </thead>\n",
              "  <tbody>\n",
              "    <tr>\n",
              "      <th>0</th>\n",
              "      <td>?</td>\n",
              "      <td>88.6</td>\n",
              "      <td>168.8</td>\n",
              "      <td>64.1</td>\n",
              "      <td>48.8</td>\n",
              "      <td>2548</td>\n",
              "      <td>130</td>\n",
              "      <td>3.47</td>\n",
              "      <td>2.68</td>\n",
              "      <td>9.0</td>\n",
              "      <td>111</td>\n",
              "      <td>5000</td>\n",
              "      <td>21</td>\n",
              "      <td>27</td>\n",
              "      <td>13495</td>\n",
              "    </tr>\n",
              "    <tr>\n",
              "      <th>1</th>\n",
              "      <td>?</td>\n",
              "      <td>88.6</td>\n",
              "      <td>168.8</td>\n",
              "      <td>64.1</td>\n",
              "      <td>48.8</td>\n",
              "      <td>2548</td>\n",
              "      <td>130</td>\n",
              "      <td>3.47</td>\n",
              "      <td>2.68</td>\n",
              "      <td>9.0</td>\n",
              "      <td>111</td>\n",
              "      <td>5000</td>\n",
              "      <td>21</td>\n",
              "      <td>27</td>\n",
              "      <td>16500</td>\n",
              "    </tr>\n",
              "    <tr>\n",
              "      <th>2</th>\n",
              "      <td>?</td>\n",
              "      <td>94.5</td>\n",
              "      <td>171.2</td>\n",
              "      <td>65.5</td>\n",
              "      <td>52.4</td>\n",
              "      <td>2823</td>\n",
              "      <td>152</td>\n",
              "      <td>2.68</td>\n",
              "      <td>3.47</td>\n",
              "      <td>9.0</td>\n",
              "      <td>154</td>\n",
              "      <td>5000</td>\n",
              "      <td>19</td>\n",
              "      <td>26</td>\n",
              "      <td>16500</td>\n",
              "    </tr>\n",
              "    <tr>\n",
              "      <th>3</th>\n",
              "      <td>164</td>\n",
              "      <td>99.8</td>\n",
              "      <td>176.6</td>\n",
              "      <td>66.2</td>\n",
              "      <td>54.3</td>\n",
              "      <td>2337</td>\n",
              "      <td>109</td>\n",
              "      <td>3.19</td>\n",
              "      <td>3.40</td>\n",
              "      <td>10.0</td>\n",
              "      <td>102</td>\n",
              "      <td>5500</td>\n",
              "      <td>24</td>\n",
              "      <td>30</td>\n",
              "      <td>13950</td>\n",
              "    </tr>\n",
              "    <tr>\n",
              "      <th>4</th>\n",
              "      <td>164</td>\n",
              "      <td>99.4</td>\n",
              "      <td>176.6</td>\n",
              "      <td>66.4</td>\n",
              "      <td>54.3</td>\n",
              "      <td>2824</td>\n",
              "      <td>136</td>\n",
              "      <td>3.19</td>\n",
              "      <td>3.40</td>\n",
              "      <td>8.0</td>\n",
              "      <td>115</td>\n",
              "      <td>5500</td>\n",
              "      <td>18</td>\n",
              "      <td>22</td>\n",
              "      <td>17450</td>\n",
              "    </tr>\n",
              "  </tbody>\n",
              "</table>\n",
              "</div>\n",
              "      <button class=\"colab-df-convert\" onclick=\"convertToInteractive('df-02e06144-7092-44ff-85a5-9b87f963566c')\"\n",
              "              title=\"Convert this dataframe to an interactive table.\"\n",
              "              style=\"display:none;\">\n",
              "        \n",
              "  <svg xmlns=\"http://www.w3.org/2000/svg\" height=\"24px\"viewBox=\"0 0 24 24\"\n",
              "       width=\"24px\">\n",
              "    <path d=\"M0 0h24v24H0V0z\" fill=\"none\"/>\n",
              "    <path d=\"M18.56 5.44l.94 2.06.94-2.06 2.06-.94-2.06-.94-.94-2.06-.94 2.06-2.06.94zm-11 1L8.5 8.5l.94-2.06 2.06-.94-2.06-.94L8.5 2.5l-.94 2.06-2.06.94zm10 10l.94 2.06.94-2.06 2.06-.94-2.06-.94-.94-2.06-.94 2.06-2.06.94z\"/><path d=\"M17.41 7.96l-1.37-1.37c-.4-.4-.92-.59-1.43-.59-.52 0-1.04.2-1.43.59L10.3 9.45l-7.72 7.72c-.78.78-.78 2.05 0 2.83L4 21.41c.39.39.9.59 1.41.59.51 0 1.02-.2 1.41-.59l7.78-7.78 2.81-2.81c.8-.78.8-2.07 0-2.86zM5.41 20L4 18.59l7.72-7.72 1.47 1.35L5.41 20z\"/>\n",
              "  </svg>\n",
              "      </button>\n",
              "      \n",
              "  <style>\n",
              "    .colab-df-container {\n",
              "      display:flex;\n",
              "      flex-wrap:wrap;\n",
              "      gap: 12px;\n",
              "    }\n",
              "\n",
              "    .colab-df-convert {\n",
              "      background-color: #E8F0FE;\n",
              "      border: none;\n",
              "      border-radius: 50%;\n",
              "      cursor: pointer;\n",
              "      display: none;\n",
              "      fill: #1967D2;\n",
              "      height: 32px;\n",
              "      padding: 0 0 0 0;\n",
              "      width: 32px;\n",
              "    }\n",
              "\n",
              "    .colab-df-convert:hover {\n",
              "      background-color: #E2EBFA;\n",
              "      box-shadow: 0px 1px 2px rgba(60, 64, 67, 0.3), 0px 1px 3px 1px rgba(60, 64, 67, 0.15);\n",
              "      fill: #174EA6;\n",
              "    }\n",
              "\n",
              "    [theme=dark] .colab-df-convert {\n",
              "      background-color: #3B4455;\n",
              "      fill: #D2E3FC;\n",
              "    }\n",
              "\n",
              "    [theme=dark] .colab-df-convert:hover {\n",
              "      background-color: #434B5C;\n",
              "      box-shadow: 0px 1px 3px 1px rgba(0, 0, 0, 0.15);\n",
              "      filter: drop-shadow(0px 1px 2px rgba(0, 0, 0, 0.3));\n",
              "      fill: #FFFFFF;\n",
              "    }\n",
              "  </style>\n",
              "\n",
              "      <script>\n",
              "        const buttonEl =\n",
              "          document.querySelector('#df-02e06144-7092-44ff-85a5-9b87f963566c button.colab-df-convert');\n",
              "        buttonEl.style.display =\n",
              "          google.colab.kernel.accessAllowed ? 'block' : 'none';\n",
              "\n",
              "        async function convertToInteractive(key) {\n",
              "          const element = document.querySelector('#df-02e06144-7092-44ff-85a5-9b87f963566c');\n",
              "          const dataTable =\n",
              "            await google.colab.kernel.invokeFunction('convertToInteractive',\n",
              "                                                     [key], {});\n",
              "          if (!dataTable) return;\n",
              "\n",
              "          const docLinkHtml = 'Like what you see? Visit the ' +\n",
              "            '<a target=\"_blank\" href=https://colab.research.google.com/notebooks/data_table.ipynb>data table notebook</a>'\n",
              "            + ' to learn more about interactive tables.';\n",
              "          element.innerHTML = '';\n",
              "          dataTable['output_type'] = 'display_data';\n",
              "          await google.colab.output.renderOutput(dataTable, element);\n",
              "          const docLink = document.createElement('div');\n",
              "          docLink.innerHTML = docLinkHtml;\n",
              "          element.appendChild(docLink);\n",
              "        }\n",
              "      </script>\n",
              "    </div>\n",
              "  </div>\n",
              "  "
            ]
          },
          "metadata": {},
          "execution_count": 49
        }
      ],
      "source": [
        "numeric_cars.head(5)"
      ]
    },
    {
      "cell_type": "code",
      "execution_count": null,
      "metadata": {
        "colab": {
          "base_uri": "https://localhost:8080/"
        },
        "id": "99uVmHdbPfo9",
        "outputId": "cb801add-c82c-4825-d9d0-ca8f094847b9"
      },
      "outputs": [
        {
          "output_type": "stream",
          "name": "stdout",
          "text": [
            "\n"
          ]
        }
      ],
      "source": [
        "numeric_cars = numeric_cars.replace('?', np.nan)\n",
        "numeric_cars.head(5)"
      ]
    },
    {
      "cell_type": "code",
      "execution_count": null,
      "metadata": {
        "colab": {
          "base_uri": "https://localhost:8080/"
        },
        "id": "Hwpp2ZIsPfo_",
        "outputId": "ea652f90-1c1b-46c4-f133-fce91306303d"
      },
      "outputs": [
        {
          "output_type": "stream",
          "name": "stdout",
          "text": [
            "\n"
          ]
        }
      ],
      "source": [
        "numeric_cars = numeric_cars.astype('float')\n",
        "numeric_cars.isnull().sum()"
      ]
    },
    {
      "cell_type": "code",
      "execution_count": null,
      "metadata": {
        "colab": {
          "base_uri": "https://localhost:8080/"
        },
        "id": "aDp059oZPfo_",
        "outputId": "756d700d-38bd-49f7-9933-11639951a4c9"
      },
      "outputs": [
        {
          "output_type": "stream",
          "name": "stdout",
          "text": [
            "\n"
          ]
        }
      ],
      "source": [
        "numeric_cars = numeric_cars.dropna(subset=['price'])\n",
        "numeric_cars.isnull().sum()"
      ]
    },
    {
      "cell_type": "code",
      "execution_count": null,
      "metadata": {
        "collapsed": true,
        "colab": {
          "base_uri": "https://localhost:8080/"
        },
        "id": "aK-E2tZkPfpB",
        "outputId": "bd64c29b-d91d-44d9-bdaf-cec88772dfe3"
      },
      "outputs": [
        {
          "output_type": "stream",
          "name": "stdout",
          "text": [
            "\n"
          ]
        }
      ],
      "source": [
        "numeric_cars = numeric_cars.fillna(numeric_cars.mean())"
      ]
    },
    {
      "cell_type": "code",
      "execution_count": null,
      "metadata": {
        "colab": {
          "base_uri": "https://localhost:8080/"
        },
        "id": "qST7tkdpPfpC",
        "outputId": "3b4e730b-ee3d-4ac0-b69a-8e2230cb17eb"
      },
      "outputs": [
        {
          "output_type": "execute_result",
          "data": {
            "text/plain": [
              "normalized-losses    0\n",
              "wheel-base           0\n",
              "length               0\n",
              "width                0\n",
              "height               0\n",
              "curb-weight          0\n",
              "engine-size          0\n",
              "bore                 0\n",
              "stroke               0\n",
              "compression-rate     0\n",
              "horsepower           0\n",
              "peak-rpm             0\n",
              "city-mpg             0\n",
              "highway-mpg          0\n",
              "price                0\n",
              "dtype: int64"
            ]
          },
          "metadata": {},
          "execution_count": 25
        }
      ],
      "source": [
        "numeric_cars.isnull().sum()"
      ]
    },
    {
      "cell_type": "code",
      "execution_count": null,
      "metadata": {
        "collapsed": true,
        "colab": {
          "base_uri": "https://localhost:8080/"
        },
        "id": "Jjs3jXkQPfpD",
        "outputId": "7dcaff08-2845-49e4-9b2a-2bb5c1d50249"
      },
      "outputs": [
        {
          "output_type": "stream",
          "name": "stdout",
          "text": [
            "\n"
          ]
        }
      ],
      "source": [
        "price_col = numeric_cars['price']\n",
        "numeric_cars = (numeric_cars -\n",
        "                numeric_cars.min())/(numeric_cars.max() -\n",
        "                                     numeric_cars.min())\n",
        "numeric_cars['price'] = price_col\n"
      ]
    },
    {
      "cell_type": "code",
      "execution_count": null,
      "metadata": {
        "colab": {
          "base_uri": "https://localhost:8080/"
        },
        "id": "vNxyIbDZPfpD",
        "outputId": "8154536f-75bc-41fb-b287-ef88883fe318"
      },
      "outputs": [
        {
          "output_type": "stream",
          "name": "stdout",
          "text": [
            "\n"
          ]
        }
      ],
      "source": [
        "from sklearn.neighbors import KNeighborsRegressor\n",
        "from sklearn.metrics import mean_squared_error\n",
        "\n",
        "\n",
        "def knn_train_test(train_col, target_col, df):\n",
        "    knn = KNeighborsRegressor()\n",
        "    np.random.seed(1)\n",
        "\n",
        "    shuffled_index = np.random.permutation(df.index)\n",
        "    rand_df = df.reindex(shuffled_index)\n",
        "\n",
        "    last_train_row = int(len(rand_df) / 2)\n",
        "\n",
        "    train_df = rand_df.iloc[0:last_train_row]\n",
        "    test_df = rand_df.iloc[last_train_row:]\n",
        "\n",
        "    knn.fit(train_df[[train_col]], train_df[target_col])\n",
        "\n",
        "    predicted_labels = knn.predict(test_df[[train_col]])\n",
        "\n",
        "    mse = mean_squared_error(test_df[target_col], predicted_labels)\n",
        "    rmse = np.sqrt(mse)\n",
        "    return rmse\n",
        "\n",
        "\n",
        "rmse_results = {}\n",
        "train_cols = numeric_cars.columns.drop('price')\n",
        "\n",
        "for col in train_cols:\n",
        "    rmse_val = knn_train_test(col, 'price', numeric_cars)\n",
        "    rmse_results[col] = rmse_val\n",
        "\n",
        "rmse_results_series = pd.Series(rmse_results)\n",
        "rmse_results_series.sort_values()\n"
      ]
    },
    {
      "cell_type": "code",
      "execution_count": null,
      "metadata": {
        "colab": {
          "base_uri": "https://localhost:8080/"
        },
        "id": "MZT1s0QgPfpF",
        "outputId": "4d4fa52a-90ca-4098-9df8-e37af94620c6"
      },
      "outputs": [
        {
          "output_type": "stream",
          "name": "stdout",
          "text": [
            "\n"
          ]
        }
      ],
      "source": [
        "def knn_train_test(train_col, target_col, df):\n",
        "    np.random.seed(1)\n",
        "\n",
        "    shuffled_index = np.random.permutation(df.index)\n",
        "    rand_df = df.reindex(shuffled_index)\n",
        "\n",
        "    last_train_row = int(len(rand_df) / 2)\n",
        "\n",
        "    train_df = rand_df.iloc[0:last_train_row]\n",
        "    test_df = rand_df.iloc[last_train_row:]\n",
        "\n",
        "    k_values = [1, 3, 5, 7, 9]\n",
        "    k_rmses = {}\n",
        "\n",
        "    for k in k_values:\n",
        "        knn = KNeighborsRegressor(n_neighbors=k)\n",
        "        knn.fit(train_df[[train_col]], train_df[target_col])\n",
        "\n",
        "        predicted_labels = knn.predict(test_df[[train_col]])\n",
        "\n",
        "        mse = mean_squared_error(test_df[target_col], predicted_labels)\n",
        "        rmse = np.sqrt(mse)\n",
        "\n",
        "        k_rmses[k] = rmse\n",
        "    return k_rmses\n",
        "\n",
        "\n",
        "k_rmse_results = {}\n",
        "\n",
        "train_cols = numeric_cars.columns.drop('price')\n",
        "for col in train_cols:\n",
        "    rmse_val = knn_train_test(col, 'price', numeric_cars)\n",
        "    k_rmse_results[col] = rmse_val\n",
        "\n",
        "k_rmse_results\n"
      ]
    },
    {
      "cell_type": "code",
      "execution_count": null,
      "metadata": {
        "colab": {
          "base_uri": "https://localhost:8080/",
          "height": 297
        },
        "id": "OAV3sxHxPfpF",
        "outputId": "d1249afb-eedc-4207-d1a7-d15354a425b0"
      },
      "outputs": [
        {
          "output_type": "stream",
          "name": "stdout",
          "text": [
            "\n"
          ]
        },
        {
          "output_type": "display_data",
          "data": {
            "text/plain": [
              "<Figure size 432x288 with 1 Axes>"
            ],
            "image/png": "[encoded data removed]"
          },
          "metadata": {
            "needs_background": "light"
          }
        }
      ],
      "source": [
        "import matplotlib.pyplot as plt\n",
        "%matplotlib inline\n",
        "\n",
        "for k, v in k_rmse_results.items():\n",
        "    x = list(v.keys())\n",
        "    y = list(v.values())\n",
        "\n",
        "    plt.plot(x, y)\n",
        "    plt.xlabel('k value')\n",
        "    plt.ylabel('RMSE')\n"
      ]
    },
    {
      "cell_type": "code",
      "execution_count": null,
      "metadata": {
        "colab": {
          "base_uri": "https://localhost:8080/"
        },
        "id": "nCGZNTLLPfpG",
        "outputId": "b7b89bd9-cd72-40e5-83b9-899777498b1d"
      },
      "outputs": [
        {
          "output_type": "stream",
          "name": "stdout",
          "text": [
            "engine-size          3476.756279\n",
            "horsepower           4260.515870\n",
            "width                4630.880137\n",
            "city-mpg             4666.762336\n",
            "curb-weight          4791.679591\n",
            "highway-mpg          5070.560474\n",
            "wheel-base           5306.966661\n",
            "length               5437.701635\n",
            "compression-rate     6769.339907\n",
            "bore                 6927.409424\n",
            "stroke               7582.808260\n",
            "normalized-losses    7686.730517\n",
            "peak-rpm             7960.726357\n",
            "height               8154.717180\n",
            "dtype: float64\n",
            "\n"
          ]
        }
      ],
      "source": [
        "feature_avg_rmse = {}\n",
        "for k, v in k_rmse_results.items():\n",
        "    avg_rmse = np.mean(list(v.values()))\n",
        "    feature_avg_rmse[k] = avg_rmse\n",
        "series_avg_rmse = pd.Series(feature_avg_rmse)\n",
        "sorted_series_avg_rmse = series_avg_rmse.sort_values()\n",
        "print(sorted_series_avg_rmse)\n",
        "\n",
        "sorted_features = sorted_series_avg_rmse.index\n"
      ]
    },
    {
      "cell_type": "code",
      "execution_count": null,
      "metadata": {
        "colab": {
          "base_uri": "https://localhost:8080/"
        },
        "id": "nV1BITnGPfpH",
        "outputId": "32c24ae5-1796-4021-d3fa-b31cad0e6524"
      },
      "outputs": [
        {
          "output_type": "stream",
          "name": "stdout",
          "text": [
            "\n"
          ]
        }
      ],
      "source": [
        "def knn_train_test(train_cols, target_col, df):\n",
        "    np.random.seed(1)\n",
        "\n",
        "    shuffled_index = np.random.permutation(df.index)\n",
        "    rand_df = df.reindex(shuffled_index)\n",
        "\n",
        "    last_train_row = int(len(rand_df) / 2)\n",
        "\n",
        "    train_df = rand_df.iloc[0:last_train_row]\n",
        "    test_df = rand_df.iloc[last_train_row:]\n",
        "\n",
        "    k_values = [5]\n",
        "    k_rmses = {}\n",
        "\n",
        "    for k in k_values:\n",
        "        knn = KNeighborsRegressor(n_neighbors=k)\n",
        "        knn.fit(train_df[train_cols], train_df[target_col])\n",
        "\n",
        "        predicted_labels = knn.predict(test_df[train_cols])\n",
        "\n",
        "        mse = mean_squared_error(test_df[target_col], predicted_labels)\n",
        "        rmse = np.sqrt(mse)\n",
        "\n",
        "        k_rmses[k] = rmse\n",
        "    return k_rmses\n",
        "\n",
        "\n",
        "k_rmse_results = {}\n",
        "\n",
        "for nr_best_feats in range(2, 7):\n",
        "    k_rmse_results['{} best features'.format(nr_best_feats)] = knn_train_test(\n",
        "        sorted_features[:nr_best_feats],\n",
        "        'price',\n",
        "        numeric_cars\n",
        "    )\n",
        "\n",
        "k_rmse_results\n"
      ]
    }
  ],
  "metadata": {
    "kernelspec": {
      "display_name": "Python 3",
      "language": "python",
      "name": "python3"
    },
    "language_info": {
      "codemirror_mode": {
        "name": "ipython",
        "version": 3
      },
      "file_extension": ".py",
      "mimetype": "text/x-python",
      "name": "python",
      "nbconvert_exporter": "python",
      "pygments_lexer": "ipython3",
      "version": "3.4.3"
    },
    "colab": {
      "name": "pred-car-prices.ipynb",
      "provenance": []
    }
  },
  "nbformat": 4,
  "nbformat_minor": 0
}